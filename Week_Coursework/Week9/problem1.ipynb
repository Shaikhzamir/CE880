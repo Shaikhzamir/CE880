{
  "cells": [
    {
      "cell_type": "markdown",
      "metadata": {
        "id": "IVG7afg0ZS8T"
      },
      "source": [
        "Before you turn this problem in, make sure everything runs as expected. First, **restart the kernel** (in the menubar, select Kernel$\\rightarrow$Restart) and then **run all cells** (in the menubar, select Cell$\\rightarrow$Run All).\n",
        "\n",
        "Make sure you fill in any place that says `YOUR CODE HERE` or \"YOUR ANSWER HERE\", as well as your name and collaborators below:"
      ]
    },
    {
      "cell_type": "code",
      "execution_count": 1,
      "metadata": {
        "id": "V7umbtD-ZS8X"
      },
      "outputs": [],
      "source": [
        "NAME = \"Zamir Arif Shaikh\"\n",
        "COLLABORATORS = \"2111068\""
      ]
    },
    {
      "cell_type": "markdown",
      "metadata": {
        "id": "7mJ3E8XyZS8Y"
      },
      "source": [
        "---"
      ]
    },
    {
      "cell_type": "markdown",
      "metadata": {
        "id": "vXqtezNZZS8Z"
      },
      "source": [
        "---\n",
        "# Welcome to CE880\n",
        "### This is your week-9 : Problem notebook\n",
        "\n",
        "For this problem set, we'll be using the Jupyter notebook and please upload this notebook to [Google Colab](https://colab.research.google.com/). \n",
        "\n",
        "Paris Housing is a set of data created from imaginary data of house prices in an urban environment. \n",
        "https://github.com/sagihaider/CE880_2021/blob/main/Data/ParisHousingClass.csv \n",
        "\n",
        "All attributes are numeric variables and they are listed bellow:\n",
        "* squareMeters\n",
        "* numberOfRooms\n",
        "* hasYard\n",
        "* hasPool\n",
        "* floors - number of floors\n",
        "* cityCode - zip code\n",
        "* cityPartRange - the higher the range, the more exclusive the neighbourhood is\n",
        "* numPrevOwners - number of prevoious owners\n",
        "* made - year\n",
        "* isNewBuilt\n",
        "* hasStormProtector\n",
        "* basement - basement square meters\n",
        "* attic - attic square meteres\n",
        "* garage - garage size\n",
        "* hasStorageRoom\n",
        "* hasGuestRoom - number of guest rooms\n",
        "* price - price of a house\n",
        "* category - Luxury or Basic"
      ]
    },
    {
      "cell_type": "code",
      "execution_count": 2,
      "metadata": {
        "id": "rRYsNHoeZS8a"
      },
      "outputs": [],
      "source": [
        "import numpy as np \n",
        "import pandas as pd \n",
        "url = 'https://raw.githubusercontent.com/sagihaider/CE880_2021/main/Data/ParisHousingClass.csv'\n",
        "trainData = pd.read_csv(url,index_col=0)\n",
        "# print(trainData.head())"
      ]
    },
    {
      "cell_type": "code",
      "execution_count": 3,
      "metadata": {
        "colab": {
          "base_uri": "https://localhost:8080/"
        },
        "id": "t1j1ynMSZS8a",
        "outputId": "938c70dd-ed2b-4633-ddba-7e3824baa059"
      },
      "outputs": [
        {
          "output_type": "stream",
          "name": "stdout",
          "text": [
            "category ['Basic' 'Luxury']\n"
          ]
        }
      ],
      "source": [
        "from sklearn.preprocessing import LabelEncoder\n",
        "\n",
        "def label_encoded(feat):\n",
        "    le=LabelEncoder()\n",
        "    le.fit(feat)\n",
        "    print(feat.name,le.classes_)\n",
        "    return le.transform(feat)\n",
        "trainData['category']=label_encoded(trainData['category'])"
      ]
    },
    {
      "cell_type": "code",
      "execution_count": 4,
      "metadata": {
        "id": "wef1-gbHZS8a"
      },
      "outputs": [],
      "source": [
        "from sklearn.model_selection import train_test_split,GridSearchCV\n",
        "\n",
        "y=trainData['category']\n",
        "x=trainData.drop('category',axis=1)\n",
        "xtrain,xtest,ytrain,ytest=train_test_split(x,y,test_size=0.2,random_state=42)"
      ]
    },
    {
      "cell_type": "markdown",
      "metadata": {
        "id": "5y-PePUyZS8b"
      },
      "source": [
        "---\n",
        "## Question 1: \n",
        "\n",
        "#### Classification\n",
        "Use the `Paris Housing` dataset, which we have laoded and spilted into `training` and `test` sets (`xtrain`, `xtest`, `ytrain`, `ytest`). Your job is to train the machine learning classificaiton model to get the test accuracy of 100%. You are free to use any classication model such as Decision Tree, Random Forest, KNN, SVM. I would recommend using Grid Search Algorithm to find a best set of hyper-parameters and add that training algorithm to the `my_model` function below. \n",
        "You are also free to use any data vislusation methods to understand the varaibles. Trying implementing feature importance and pass as minimum variables as possible to train your classifier. This is not mandaroty and totally upto you. \n",
        "\n"
      ]
    },
    {
      "cell_type": "code",
      "execution_count": 8,
      "metadata": {
        "deletable": false,
        "nbgrader": {
          "cell_type": "code",
          "checksum": "0237824374ad8c7903120c070b88bb58",
          "grade": false,
          "grade_id": "my_model_ans",
          "locked": false,
          "schema_version": 3,
          "solution": true,
          "task": false
        },
        "id": "6UboqKsuZS8c"
      },
      "outputs": [],
      "source": [
        "def my_model(xtrain,xtest,ytrain,ytest):\n",
        "    \"\"\"Write a function to train a machine learning model to get the test accuracy of 100%. \n",
        "    You are free to use any classication model such as Decision Tree, \n",
        "    Random Forest, KNN, SVM..etc. \"\"\"\n",
        "\n",
        "    # YOUR CODE HERE\n",
        "\n",
        "    m = RandomForestClassifier(random_state=42)\n",
        "    m.fit(xtrain, ytrain)\n",
        "    y_pred = m.predict(xtest)\n",
        "\n",
        "    acc = accuracy_score(ytest, y_pred)\n",
        "    return acc * 100\n",
        "\n",
        "    raise NotImplementedError()\n",
        "\n"
      ]
    },
    {
      "cell_type": "code",
      "execution_count": 7,
      "metadata": {
        "deletable": false,
        "editable": false,
        "nbgrader": {
          "cell_type": "code",
          "checksum": "b15a8a354453f7e99cb9fa5a6cb0b977",
          "grade": true,
          "grade_id": "my_model_test",
          "locked": true,
          "points": 9,
          "schema_version": 3,
          "solution": false,
          "task": false
        },
        "id": "zpY4_uD_ZS8c"
      },
      "outputs": [],
      "source": [
        "# Check you solution by running this cell\n",
        "import math\n",
        "assert math.isclose(my_model(xtrain,xtest,ytrain,ytest), 100.0, rel_tol = 0.05)"
      ]
    },
    {
      "cell_type": "code",
      "execution_count": null,
      "metadata": {
        "id": "Cj6foeo8ZS8d"
      },
      "outputs": [],
      "source": [
        ""
      ]
    }
  ],
  "metadata": {
    "kernelspec": {
      "display_name": "Python 3",
      "language": "python",
      "name": "python3"
    },
    "language_info": {
      "codemirror_mode": {
        "name": "ipython",
        "version": 3
      },
      "file_extension": ".py",
      "mimetype": "text/x-python",
      "name": "python",
      "nbconvert_exporter": "python",
      "pygments_lexer": "ipython3",
      "version": "3.7.11"
    },
    "colab": {
      "name": "problem1(9).ipynb",
      "provenance": []
    }
  },
  "nbformat": 4,
  "nbformat_minor": 0
}