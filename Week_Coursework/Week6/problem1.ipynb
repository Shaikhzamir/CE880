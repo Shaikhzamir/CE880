{
  "cells": [
    {
      "cell_type": "markdown",
      "metadata": {
        "id": "xXs-LvKWE5ig"
      },
      "source": [
        "Before you turn this problem in, make sure everything runs as expected. First, **restart the kernel** (in the menubar, select Kernel$\\rightarrow$Restart) and then **run all cells** (in the menubar, select Cell$\\rightarrow$Run All).\n",
        "\n",
        "Make sure you fill in any place that says `YOUR CODE HERE` or \"YOUR ANSWER HERE\", as well as your name and collaborators below:"
      ]
    },
    {
      "cell_type": "code",
      "execution_count": null,
      "metadata": {
        "id": "eB6xBQgVE5il"
      },
      "outputs": [],
      "source": [
        "NAME = \"Zamir Arif Shaikh\"\n",
        "COLLABORATORS = \"2111068\""
      ]
    },
    {
      "cell_type": "markdown",
      "metadata": {
        "id": "bw9Ho8JME5im"
      },
      "source": [
        "---"
      ]
    },
    {
      "cell_type": "markdown",
      "metadata": {
        "id": "ALRAHKc2E5in"
      },
      "source": [
        "---\n",
        "# Welcome to CE880\n",
        "### This is your week-6 : Problem notebook\n",
        "\n",
        "For this problem set, we'll be using the Jupyter notebook and please upload this notebook to [Google Colab](https://colab.research.google.com/). "
      ]
    },
    {
      "cell_type": "code",
      "execution_count": 1,
      "metadata": {
        "colab": {
          "base_uri": "https://localhost:8080/"
        },
        "id": "5I9qvyWxE5in",
        "outputId": "2a833b47-6836-4dbd-ea41-111532b2dadb"
      },
      "outputs": [
        {
          "output_type": "stream",
          "name": "stdout",
          "text": [
            "Requirement already satisfied: scikit-learn in /usr/local/lib/python3.7/dist-packages (1.0.2)\n",
            "Requirement already satisfied: scipy>=1.1.0 in /usr/local/lib/python3.7/dist-packages (from scikit-learn) (1.4.1)\n",
            "Requirement already satisfied: numpy>=1.14.6 in /usr/local/lib/python3.7/dist-packages (from scikit-learn) (1.21.5)\n",
            "Requirement already satisfied: threadpoolctl>=2.0.0 in /usr/local/lib/python3.7/dist-packages (from scikit-learn) (3.1.0)\n",
            "Requirement already satisfied: joblib>=0.11 in /usr/local/lib/python3.7/dist-packages (from scikit-learn) (1.1.0)\n"
          ]
        }
      ],
      "source": [
        "# install sklearn package if you are using local computer and if you are using Google Coalb then skip this step\n",
        "!pip install -U scikit-learn\n",
        "import sys\n",
        "import warnings\n",
        "import numpy as np\n",
        "\n",
        "if not sys.warnoptions:\n",
        "    warnings.simplefilter(\"ignore\")"
      ]
    },
    {
      "cell_type": "markdown",
      "metadata": {
        "id": "2b0kpckDE5io"
      },
      "source": [
        "---\n",
        "## Question 1: \n",
        "\n",
        "#### Student’s t-test\n",
        "Tests whether the means of two independent samples are significantly different and return p-value. Please consider $\\alpha = 0.05$ \n",
        "\n",
        "Assumptions\n",
        "\n",
        "* Observations in each sample are independent and identically distributed (iid).\n",
        "* Observations in each sample are normally distributed.\n",
        "* Observations in each sample have the same variance.\n",
        "\n",
        "Interpretation\n",
        "\n",
        "* H0: the means of the samples are equal.\n",
        "* H1: the means of the samples are unequal."
      ]
    },
    {
      "cell_type": "code",
      "execution_count": 4,
      "metadata": {
        "deletable": false,
        "nbgrader": {
          "cell_type": "code",
          "checksum": "c6bb28500c0650571c3bdeb706b272ee",
          "grade": false,
          "grade_id": "my_ttest_ans",
          "locked": false,
          "schema_version": 3,
          "solution": true,
          "task": false
        },
        "id": "_UdSpW3BE5ip"
      },
      "outputs": [],
      "source": [
        "from scipy.stats import ttest_ind\n",
        "mu, sigma = 0, 1 # mean and standard deviation\n",
        "data1 = np.random.normal(mu, sigma, 100)\n",
        "\n",
        "mu, sigma = 3, 1 # mean and standard deviation\n",
        "data2 = np.random.normal(mu, sigma, 100)\n",
        "\n",
        "\n",
        "def my_ttest(data1, data2):\n",
        "    \"\"\"Write a code to tests whether the means of two independent samples are significantly\n",
        "    different and return p-value. Please consider 𝛼 = 0.05  \"\"\"\n",
        "    # YOUR CODE HERE\n",
        "    stat, z = ttest_ind(data1, data2)\n",
        "    return z\n",
        "\n",
        "    raise NotImplementedError()"
      ]
    },
    {
      "cell_type": "code",
      "execution_count": 5,
      "metadata": {
        "deletable": false,
        "editable": false,
        "nbgrader": {
          "cell_type": "code",
          "checksum": "dce1e113eadb1ccf156e910df656c541",
          "grade": true,
          "grade_id": "my_ttest_test",
          "locked": true,
          "points": 2,
          "schema_version": 3,
          "solution": false,
          "task": false
        },
        "id": "Tl4TqqGvE5iq"
      },
      "outputs": [],
      "source": [
        "# Check you solution by running this cell\n",
        "import math\n",
        "val = my_ttest(data1, data2)\n",
        "assert math.isclose(val, 0, abs_tol = 0.05)"
      ]
    },
    {
      "cell_type": "markdown",
      "metadata": {
        "id": "kTwazh98E5iq"
      },
      "source": [
        "---\n",
        "## Question 2: \n",
        "\n",
        "#### Paired Student’s t-test\n",
        "Tests whether the means of two paired samples are significantly different. Please consider $\\alpha = 0.05$ \n",
        "\n",
        "Assumptions\n",
        "\n",
        "* Observations in each sample are independent and identically distributed (iid).\n",
        "* Observations in each sample are normally distributed.\n",
        "* Observations in each sample have the same variance.\n",
        "* Observations across each sample are paired.\n",
        "\n",
        "Interpretation\n",
        "\n",
        "* H0: the means of the samples are equal.\n",
        "* H1: the means of the samples are unequal."
      ]
    },
    {
      "cell_type": "code",
      "execution_count": 6,
      "metadata": {
        "deletable": false,
        "nbgrader": {
          "cell_type": "code",
          "checksum": "8250fb8556f0348ee2fe92fd9d303345",
          "grade": false,
          "grade_id": "my_pairedttest_ans",
          "locked": false,
          "schema_version": 3,
          "solution": true,
          "task": false
        },
        "id": "fPdfLs7CE5ir"
      },
      "outputs": [],
      "source": [
        "# Example of the Paired Student's t-test\n",
        "from scipy.stats import ttest_rel\n",
        "data1 = [0.873, 2.817, 0.121, -0.945, -0.055, -1.436, 0.360, -1.478, -1.637, -1.869]\n",
        "data2 = [1.142, -0.432, -0.938, -0.729, -0.846, -0.157, 0.500, 1.183, -1.075, -0.169]\n",
        "\n",
        "\n",
        "def my_pairedttest(data1, data2):\n",
        "    \"\"\"Write code to tests whether the means of two paired samples are \n",
        "    significantly different. Please consider 𝛼=0.05 \"\"\"\n",
        "    # YOUR CODE HERE\n",
        "    stat, z = ttest_ind(data1, data2)\n",
        "    return z\n",
        "    raise NotImplementedError()"
      ]
    },
    {
      "cell_type": "code",
      "execution_count": 7,
      "metadata": {
        "deletable": false,
        "editable": false,
        "nbgrader": {
          "cell_type": "code",
          "checksum": "e142d479c640e86cdaf7b6f6aa2d5ef7",
          "grade": true,
          "grade_id": "my_pairedttest_test",
          "locked": true,
          "points": 2,
          "schema_version": 3,
          "solution": false,
          "task": false
        },
        "id": "H4q9g_5wE5ir"
      },
      "outputs": [],
      "source": [
        "# Check you solution by running this cell\n",
        "import math\n",
        "assert math.isclose(my_pairedttest(data1, data2), 0.746, rel_tol = 0.05)"
      ]
    },
    {
      "cell_type": "markdown",
      "metadata": {
        "id": "4J8MO5nFE5is"
      },
      "source": [
        "---\n",
        "## Question 3: \n",
        "\n",
        "#### Shapiro-Wilk Test\n",
        "Tests whether a data sample has a Gaussian distribution.\n",
        "\n",
        "Assumptions\n",
        "\n",
        "* Observations in each sample are independent and identically distributed (iid).\n",
        "\n",
        "Interpretation\n",
        "\n",
        "* H0: the sample has a Gaussian distribution.\n",
        "* H1: the sample does not have a Gaussian distribution."
      ]
    },
    {
      "cell_type": "code",
      "execution_count": 17,
      "metadata": {
        "deletable": false,
        "nbgrader": {
          "cell_type": "code",
          "checksum": "46e413b53628a4d7763ce8b467327a5c",
          "grade": false,
          "grade_id": "my_normalityttest_ans",
          "locked": false,
          "schema_version": 3,
          "solution": true,
          "task": false
        },
        "id": "X04jNg5iE5is"
      },
      "outputs": [],
      "source": [
        "from scipy.stats import shapiro\n",
        "from scipy import stats\n",
        "data = [0.873, 2.817, 0.121, -0.945, -0.055, -1.436, 0.360, -1.478, -1.637, -1.869]\n",
        "\n",
        "def my_normalityttest(data):\n",
        "    \"\"\"Write code to to check the normality of the data. In other words, \n",
        "    you are checking if the data is normally distributed and return p value. \n",
        "    Hint: Please see what is shapiro test and how you can use it\n",
        "    https://docs.scipy.org/doc/scipy/reference/generated/scipy.stats.shapiro.html\"\"\"\n",
        "    # YOUR CODE HERE\n",
        "    shapiro_test, z = stats.shapiro(data)\n",
        "\n",
        "    return z\n",
        "    raise NotImplementedError()\n",
        "\n",
        "#my_normalityttest(data)"
      ]
    },
    {
      "cell_type": "code",
      "execution_count": 18,
      "metadata": {
        "deletable": false,
        "editable": false,
        "nbgrader": {
          "cell_type": "code",
          "checksum": "ddf4ce4217df5678cc4c38ffb9623a47",
          "grade": true,
          "grade_id": "my_normalityttest_test",
          "locked": true,
          "points": 2,
          "schema_version": 3,
          "solution": false,
          "task": false
        },
        "id": "1opKJl6AE5it"
      },
      "outputs": [],
      "source": [
        "# Check you solution by running this cell\n",
        "import math\n",
        "assert math.isclose(my_normalityttest(data), 0.193, rel_tol = 0.05)"
      ]
    },
    {
      "cell_type": "code",
      "execution_count": null,
      "metadata": {
        "id": "7L_gOUbNE5it"
      },
      "outputs": [],
      "source": [
        ""
      ]
    }
  ],
  "metadata": {
    "kernelspec": {
      "display_name": "Python 3",
      "language": "python",
      "name": "python3"
    },
    "language_info": {
      "codemirror_mode": {
        "name": "ipython",
        "version": 3
      },
      "file_extension": ".py",
      "mimetype": "text/x-python",
      "name": "python",
      "nbconvert_exporter": "python",
      "pygments_lexer": "ipython3",
      "version": "3.7.10"
    },
    "colab": {
      "name": "problem1.ipynb",
      "provenance": []
    }
  },
  "nbformat": 4,
  "nbformat_minor": 0
}